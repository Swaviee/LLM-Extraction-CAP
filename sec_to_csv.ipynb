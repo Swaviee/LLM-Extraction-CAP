{
 "cells": [
  {
   "cell_type": "code",
   "execution_count": 1,
   "id": "a2d05d64-d45a-41c7-a4b1-6ed2d4c3d42d",
   "metadata": {},
   "outputs": [
    {
     "name": "stdout",
     "output_type": "stream",
     "text": [
      "CSV file created: sec_companie2.csv\n"
     ]
    }
   ],
   "source": [
    "import json\n",
    "import csv\n",
    "import requests\n",
    "\n",
    "# SEC URL\n",
    "url = \"https://www.sec.gov/files/company_tickers.json\"\n",
    "\n",
    "# Headers with proper identification as required by SEC\n",
    "headers = {\n",
    "    \"User-Agent\": \"he431641@ucf.edu\",  # Replace with your actual information\n",
    "    \"Accept\": \"application/json\",\n",
    "    \"Host\": \"www.sec.gov\"\n",
    "}\n",
    "\n",
    "# Fetch JSON data\n",
    "try:\n",
    "    # Send GET request with headers\n",
    "    response = requests.get(url, headers=headers)\n",
    "    \n",
    "    # Check if the request was successful\n",
    "    if response.status_code == 200:\n",
    "        data = response.json()  # Parse JSON data\n",
    "        \n",
    "        # The data structure is different than what your code expects\n",
    "        # Each item is a dictionary, not nested dictionaries\n",
    "        \n",
    "        # Write to CSV\n",
    "        with open('sec_companies2.csv', 'w', newline='') as csv_file:\n",
    "            csv_writer = csv.writer(csv_file)\n",
    "            csv_writer.writerow(['ID', 'CIK', 'Ticker', 'Company Name'])  # Headers\n",
    "            \n",
    "            for id, company_info in data.items():\n",
    "                csv_writer.writerow([\n",
    "                    id,\n",
    "                    company_info['cik_str'],\n",
    "                    company_info['ticker'],\n",
    "                    company_info['title']\n",
    "                ])\n",
    "        \n",
    "        print(\"CSV file created: sec_companie2.csv\")\n",
    "    else:\n",
    "        print(f\"Failed to fetch data. HTTP Status Code: {response.status_code}\")\n",
    "        print(f\"Response text: {response.text}\")\n",
    "except Exception as e:\n",
    "    print(f\"Error: {e}\")"
   ]
  },
  {
   "cell_type": "code",
   "execution_count": null,
   "id": "35ef1131-d1de-4c75-8ee4-99c25e4302b0",
   "metadata": {},
   "outputs": [],
   "source": []
  }
 ],
 "metadata": {
  "kernelspec": {
   "display_name": "pythonProject5",
   "language": "python",
   "name": "pythonproject5"
  },
  "language_info": {
   "codemirror_mode": {
    "name": "ipython",
    "version": 3
   },
   "file_extension": ".py",
   "mimetype": "text/x-python",
   "name": "python",
   "nbconvert_exporter": "python",
   "pygments_lexer": "ipython3",
   "version": "3.13.1"
  }
 },
 "nbformat": 4,
 "nbformat_minor": 5
}
