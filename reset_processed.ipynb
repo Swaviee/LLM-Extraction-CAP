{
 "cells": [
  {
   "cell_type": "code",
   "execution_count": 1,
   "id": "322b3482-84f1-4557-9616-9df3c400c0ec",
   "metadata": {},
   "outputs": [
    {
     "name": "stdin",
     "output_type": "stream",
     "text": [
      "This will reset all processing progress. All files will be reprocessed.\n",
      "Continue? (y/n):  y\n"
     ]
    },
    {
     "name": "stdout",
     "output_type": "stream",
     "text": [
      "✅ Successfully deleted progress file that tracked 10 processed files.\n",
      "   The next run will process ALL files again.\n"
     ]
    }
   ],
   "source": [
    "#!/usr/bin/env python3\n",
    "\"\"\"\n",
    "Reset SEC 8-K JSON Reader Processing\n",
    "\n",
    "This script deletes the tracking file that remembers which files have been processed\n",
    "by the sec_8k_json_reader_fixed script, allowing you to reprocess all files.\n",
    "\"\"\"\n",
    "\n",
    "import os\n",
    "import json\n",
    "import sys\n",
    "\n",
    "# The progress tracking file\n",
    "PROGRESS_FILE = \"processing_progress.json\"\n",
    "\n",
    "def clear_processing_progress():\n",
    "    \"\"\"Clear the processing progress file\"\"\"\n",
    "    if os.path.exists(PROGRESS_FILE):\n",
    "        try:\n",
    "            # Read the current file to count how many files were tracked\n",
    "            with open(PROGRESS_FILE, 'r', encoding='utf-8') as f:\n",
    "                data = json.load(f)\n",
    "                processed_files = data.get('processed_files', [])\n",
    "                file_count = len(processed_files)\n",
    "            \n",
    "            # Delete the file\n",
    "            os.remove(PROGRESS_FILE)\n",
    "            print(f\"✅ Successfully deleted progress file that tracked {file_count} processed files.\")\n",
    "            print(\"   The next run will process ALL files again.\")\n",
    "            return True\n",
    "        except Exception as e:\n",
    "            print(f\"❌ Error clearing progress file: {str(e)}\")\n",
    "            return False\n",
    "    else:\n",
    "        print(\"ℹ️ No progress file found. Nothing to clear.\")\n",
    "        return False\n",
    "\n",
    "def main():\n",
    "    # Ask for confirmation\n",
    "    confirmation = input(\"This will reset all processing progress. All files will be reprocessed.\\nContinue? (y/n): \")\n",
    "    if confirmation.lower() not in ('y', 'yes'):\n",
    "        print(\"Operation cancelled.\")\n",
    "        return\n",
    "    \n",
    "    # Clear the processing progress\n",
    "    clear_processing_progress()\n",
    "\n",
    "if __name__ == \"__main__\":\n",
    "    main()"
   ]
  },
  {
   "cell_type": "code",
   "execution_count": null,
   "id": "12aa3b3b-acc5-49ee-8afe-ecb01afa792d",
   "metadata": {},
   "outputs": [],
   "source": []
  }
 ],
 "metadata": {
  "kernelspec": {
   "display_name": "pythonProject5",
   "language": "python",
   "name": "pythonproject5"
  },
  "language_info": {
   "codemirror_mode": {
    "name": "ipython",
    "version": 3
   },
   "file_extension": ".py",
   "mimetype": "text/x-python",
   "name": "python",
   "nbconvert_exporter": "python",
   "pygments_lexer": "ipython3",
   "version": "3.13.1"
  }
 },
 "nbformat": 4,
 "nbformat_minor": 5
}
