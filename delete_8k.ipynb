{
 "cells": [
  {
   "cell_type": "code",
   "execution_count": 1,
   "id": "1325c0fe-e71a-456f-af0a-bfcee3cb92ad",
   "metadata": {},
   "outputs": [
    {
     "name": "stdout",
     "output_type": "stream",
     "text": [
      "Removed processed_companies.txt\n",
      "Removed 8k_filings.csv\n",
      "Cleared 8k_filings_json directory\n",
      "Cleared debug_xml directory\n",
      "Cleared debug_html directory\n"
     ]
    }
   ],
   "source": [
    "import os\n",
    "import shutil\n",
    "\n",
    "# Files to remove\n",
    "files_to_remove = [\n",
    "    'processed_companies.txt',\n",
    "    '8k_filings.csv'\n",
    "]\n",
    "\n",
    "# Directories to clear\n",
    "dirs_to_clear = [\n",
    "    '8k_filings_json',\n",
    "    'debug_xml',\n",
    "    'debug_html'\n",
    "]\n",
    "\n",
    "# Remove files\n",
    "for file in files_to_remove:\n",
    "    if os.path.exists(file):\n",
    "        os.remove(file)\n",
    "        print(f\"Removed {file}\")\n",
    "\n",
    "# Clear directories\n",
    "for directory in dirs_to_clear:\n",
    "    if os.path.exists(directory):\n",
    "        # Option 1: Remove everything in the directory\n",
    "        for file in os.listdir(directory):\n",
    "            file_path = os.path.join(directory, file)\n",
    "            if os.path.isfile(file_path):\n",
    "                os.remove(file_path)\n",
    "        print(f\"Cleared {directory} directory\")\n",
    "        \n",
    "        # Option 2 (alternative): Delete and recreate the directory\n",
    "        # shutil.rmtree(directory)\n",
    "        # os.makedirs(directory)\n",
    "        # print(f\"Recreated {directory} directory\")"
   ]
  },
  {
   "cell_type": "code",
   "execution_count": null,
   "id": "d3a14f43-ca08-4212-8e5e-9ff905ddf3dd",
   "metadata": {},
   "outputs": [],
   "source": []
  }
 ],
 "metadata": {
  "kernelspec": {
   "display_name": "pythonProject5",
   "language": "python",
   "name": "pythonproject5"
  },
  "language_info": {
   "codemirror_mode": {
    "name": "ipython",
    "version": 3
   },
   "file_extension": ".py",
   "mimetype": "text/x-python",
   "name": "python",
   "nbconvert_exporter": "python",
   "pygments_lexer": "ipython3",
   "version": "3.13.1"
  }
 },
 "nbformat": 4,
 "nbformat_minor": 5
}
